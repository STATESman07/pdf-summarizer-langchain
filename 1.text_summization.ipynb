{
 "cells": [
  {
   "cell_type": "markdown",
   "id": "3ba47810",
   "metadata": {},
   "source": [
    "## Text Summrization"
   ]
  },
  {
   "cell_type": "code",
   "execution_count": 1,
   "id": "de2375cf",
   "metadata": {},
   "outputs": [
    {
     "data": {
      "text/plain": [
       "True"
      ]
     },
     "execution_count": 1,
     "metadata": {},
     "output_type": "execute_result"
    }
   ],
   "source": [
    "import os\n",
    "from dotenv import load_dotenv\n",
    "load_dotenv()"
   ]
  },
  {
   "cell_type": "code",
   "execution_count": 2,
   "id": "d8a16469",
   "metadata": {},
   "outputs": [
    {
     "data": {
      "text/plain": [
       "ChatGroq(client=<groq.resources.chat.completions.Completions object at 0x000001E251B173D0>, async_client=<groq.resources.chat.completions.AsyncCompletions object at 0x000001E251B14E20>, model_name='meta-llama/llama-4-maverick-17b-128e-instruct', model_kwargs={}, groq_api_key=SecretStr('**********'))"
      ]
     },
     "execution_count": 2,
     "metadata": {},
     "output_type": "execute_result"
    }
   ],
   "source": [
    "from langchain_groq import ChatGroq\n",
    "api_key=os.getenv(\"GROQ_API_KEY\")\n",
    "llm=ChatGroq(api_key=api_key,model=\"meta-llama/llama-4-maverick-17b-128e-instruct\")\n",
    "llm"
   ]
  },
  {
   "cell_type": "code",
   "execution_count": 3,
   "id": "98902588",
   "metadata": {},
   "outputs": [],
   "source": [
    "from langchain.schema import (AIMessage,HumanMessage,SystemMessage)\n",
    "\n",
    "speech=\"\"\"\n",
    "The Power of Resilience\n",
    "Good morning everyone,\n",
    "\n",
    "Today, I want to talk about something we all need in our lives—resilience. It's a word we hear often, especially during difficult times. But what does it really mean to be resilient? And why is it such a powerful trait?\n",
    "\n",
    "Resilience is not about avoiding failure. It's not about pretending everything is fine when it's not. Resilience is the ability to bounce back, to keep moving forward despite challenges, obstacles, or setbacks. It's the strength we find within ourselves when life doesn't go according to plan.\n",
    "\n",
    "Think about some of the most successful people in history—Steve Jobs, Oprah Winfrey, Thomas Edison. They all faced enormous failures. Jobs was fired from his own company. Oprah was told she was unfit for television. Edison failed over a thousand times before inventing the light bulb. What made them different wasn’t that they never failed—but that they kept going.\n",
    "\n",
    "We, too, face our own challenges—be it academic stress, job loss, health issues, or personal struggles. And in those moments, it’s easy to feel overwhelmed. But resilience allows us to pause, reflect, adapt, and grow. It’s a mindset that says: “This is tough, but I am tougher.”\n",
    "\n",
    "Building resilience isn't automatic—it takes practice. We develop it by embracing discomfort, learning from our mistakes, and surrounding ourselves with people who lift us up. It also means taking care of our mental health, asking for help when needed, and believing that every storm eventually passes.\n",
    "\n",
    "In a world full of uncertainties, resilience gives us hope. It empowers us not just to survive, but to thrive. It turns pain into power, and failure into fuel.\n",
    "\n",
    "So the next time life knocks you down, don’t see it as the end of your journey. See it as a new beginning—a chance to rise, stronger than before.\n",
    "\n",
    "Thank you.\n",
    "\n",
    "\n",
    "\"\"\""
   ]
  },
  {
   "cell_type": "code",
   "execution_count": 8,
   "id": "b9fc3117",
   "metadata": {},
   "outputs": [],
   "source": [
    "# simple way\n",
    "chat_message = [\n",
    "    SystemMessage(content=\"You are an expert at summarizing speeches by extracting the key point in a short and concise manner.\"),\n",
    "    HumanMessage(content=f\"Please provide a short and concise summary of the following speech:\\n\\nText:\\n{speech}\")\n",
    "]"
   ]
  },
  {
   "cell_type": "code",
   "execution_count": 9,
   "id": "0d320249",
   "metadata": {},
   "outputs": [
    {
     "data": {
      "text/plain": [
       "\"Here is a short and concise summary of the speech:\\n\\nResilience is the ability to bounce back from challenges and setbacks, and it's a powerful trait that enables us to thrive in the face of uncertainty. By embracing discomfort, learning from mistakes, and taking care of our mental health, we can build resilience and turn failure into fuel for success.\""
      ]
     },
     "execution_count": 9,
     "metadata": {},
     "output_type": "execute_result"
    }
   ],
   "source": [
    "llm(chat_message).content"
   ]
  },
  {
   "cell_type": "markdown",
   "id": "96770cc0",
   "metadata": {},
   "source": [
    "## Use of PromptTemplate"
   ]
  },
  {
   "cell_type": "code",
   "execution_count": 10,
   "id": "bd7f9fea",
   "metadata": {},
   "outputs": [],
   "source": [
    "from langchain.chains import LLMChain\n",
    "from langchain import PromptTemplate"
   ]
  },
  {
   "cell_type": "code",
   "execution_count": 12,
   "id": "01c5c39e",
   "metadata": {},
   "outputs": [],
   "source": [
    "generic_template = \"\"\"\n",
    "Write the summary of the following speech: {speech} and translate the summary to language: {language}\n",
    "\"\"\"\n",
    "\n",
    "prompt=PromptTemplate(\n",
    "    input_variables=[\"speech\",\"language\"],\n",
    "    template=generic_template\n",
    ")"
   ]
  },
  {
   "cell_type": "code",
   "execution_count": 15,
   "id": "e400bd8f",
   "metadata": {},
   "outputs": [
    {
     "data": {
      "text/plain": [
       "\"\\nWrite the summary of the following speech: \\nThe Power of Resilience\\nGood morning everyone,\\n\\nToday, I want to talk about something we all need in our lives—resilience. It's a word we hear often, especially during difficult times. But what does it really mean to be resilient? And why is it such a powerful trait?\\n\\nResilience is not about avoiding failure. It's not about pretending everything is fine when it's not. Resilience is the ability to bounce back, to keep moving forward despite challenges, obstacles, or setbacks. It's the strength we find within ourselves when life doesn't go according to plan.\\n\\nThink about some of the most successful people in history—Steve Jobs, Oprah Winfrey, Thomas Edison. They all faced enormous failures. Jobs was fired from his own company. Oprah was told she was unfit for television. Edison failed over a thousand times before inventing the light bulb. What made them different wasn’t that they never failed—but that they kept going.\\n\\nWe, too, face our own challenges—be it academic stress, job loss, health issues, or personal struggles. And in those moments, it’s easy to feel overwhelmed. But resilience allows us to pause, reflect, adapt, and grow. It’s a mindset that says: “This is tough, but I am tougher.”\\n\\nBuilding resilience isn't automatic—it takes practice. We develop it by embracing discomfort, learning from our mistakes, and surrounding ourselves with people who lift us up. It also means taking care of our mental health, asking for help when needed, and believing that every storm eventually passes.\\n\\nIn a world full of uncertainties, resilience gives us hope. It empowers us not just to survive, but to thrive. It turns pain into power, and failure into fuel.\\n\\nSo the next time life knocks you down, don’t see it as the end of your journey. See it as a new beginning—a chance to rise, stronger than before.\\n\\nThank you.\\n\\n\\n and translate the summary to language: Hindi\\n\""
      ]
     },
     "execution_count": 15,
     "metadata": {},
     "output_type": "execute_result"
    }
   ],
   "source": [
    "complete_prompt=prompt.format(speech=speech,\n",
    "    language=\"Hindi\")\n",
    "complete_prompt"
   ]
  },
  {
   "cell_type": "markdown",
   "id": "9ea52a2e",
   "metadata": {},
   "source": [
    "### LLM Chain"
   ]
  },
  {
   "cell_type": "code",
   "execution_count": 16,
   "id": "5e1533aa",
   "metadata": {},
   "outputs": [
    {
     "name": "stderr",
     "output_type": "stream",
     "text": [
      "C:\\Users\\HARSHIT\\AppData\\Local\\Temp\\ipykernel_10520\\1780073995.py:1: LangChainDeprecationWarning: The class `LLMChain` was deprecated in LangChain 0.1.17 and will be removed in 1.0. Use :meth:`~RunnableSequence, e.g., `prompt | llm`` instead.\n",
      "  llm_chain=LLMChain(prompt=prompt,llm=llm)\n",
      "C:\\Users\\HARSHIT\\AppData\\Local\\Temp\\ipykernel_10520\\1780073995.py:2: LangChainDeprecationWarning: The method `Chain.run` was deprecated in langchain 0.1.0 and will be removed in 1.0. Use :meth:`~invoke` instead.\n",
      "  summary=llm_chain.run({\"speech\":speech,\n"
     ]
    }
   ],
   "source": [
    "llm_chain=LLMChain(prompt=prompt,llm=llm)\n",
    "summary=llm_chain.run({\"speech\":speech,\n",
    "    \"language\":\"Hindi\"})"
   ]
  },
  {
   "cell_type": "code",
   "execution_count": 20,
   "id": "c6981dfa",
   "metadata": {},
   "outputs": [
    {
     "name": "stdout",
     "output_type": "stream",
     "text": [
      "**Summary:**\n",
      "The speech emphasizes the importance of resilience in our lives. Resilience is not about avoiding failure, but about bouncing back from challenges and setbacks. It is a mindset that allows us to adapt, grow, and thrive in the face of adversity. The speaker cites examples of successful individuals who have faced significant failures, but continued to persevere. Building resilience requires practice, self-care, and a supportive environment. It gives us hope and empowers us to turn pain into power and failure into fuel.\n",
      "\n",
      "**Translation to Hindi:**\n",
      "**सारांश:**\n",
      "भाषण में हमारे जीवन में लचीलापन के महत्व पर जोर दिया गया है। लचीलापन असफलता से बचने के बारे में नहीं है, बल्कि चुनौतियों और बाधाओं से उबरने के बारे में है। यह एक मानसिकता है जो हमें विपरीत परिस्थितियों में अनुकूलन करने, बढ़ने और फलने-फूलने की अनुमति देती है। वक्ता ने सफल व्यक्तियों के उदाहरण दिए हैं जिन्होंने महत्वपूर्ण असफलताओं का सामना किया, लेकिन आगे बढ़ते रहे। लचीलापन बनाने के लिए अभ्यास, आत्म-देखभाल और एक सहायक वातावरण की आवश्यकता होती है। यह हमें आशा देता है और हमें दर्द को शक्ति में और असफलता को ईंधन में बदलने के लिए सशक्त बनाता है।\n"
     ]
    }
   ],
   "source": [
    "print(summary)"
   ]
  },
  {
   "cell_type": "code",
   "execution_count": null,
   "id": "42eef3b2",
   "metadata": {},
   "outputs": [],
   "source": []
  }
 ],
 "metadata": {
  "kernelspec": {
   "display_name": "Langchan",
   "language": "python",
   "name": "python3"
  },
  "language_info": {
   "codemirror_mode": {
    "name": "ipython",
    "version": 3
   },
   "file_extension": ".py",
   "mimetype": "text/x-python",
   "name": "python",
   "nbconvert_exporter": "python",
   "pygments_lexer": "ipython3",
   "version": "3.10.18"
  }
 },
 "nbformat": 4,
 "nbformat_minor": 5
}
